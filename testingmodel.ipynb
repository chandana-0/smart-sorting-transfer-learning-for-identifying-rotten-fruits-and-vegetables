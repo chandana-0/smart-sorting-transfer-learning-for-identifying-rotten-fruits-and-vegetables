{
 "cells": [
  {
   "cell_type": "code",
   "execution_count": 19,
   "id": "83bd58b0-be4c-4479-acd0-c0af1e850bf2",
   "metadata": {},
   "outputs": [],
   "source": [
    "img_path = r\"C:\\Users\\chand\\Downloads\\archive\\Fruit And Vegetable Diseases Dataset\\Apple__Rotten\\apple_rotten_test.jpg\""
   ]
  },
  {
   "cell_type": "code",
   "execution_count": 23,
   "id": "bfb86387-d184-4294-b8fc-6624c3c3ecf1",
   "metadata": {},
   "outputs": [
    {
     "name": "stderr",
     "output_type": "stream",
     "text": [
      "WARNING:absl:No training configuration found in the save file, so the model was *not* compiled. Compile it manually.\n"
     ]
    }
   ],
   "source": [
    "from tensorflow.keras.models import load_model\n",
    "\n",
    "vgg16 = load_model('healthy_vs_rotten.h5')"
   ]
  },
  {
   "cell_type": "code",
   "execution_count": 26,
   "id": "9b297286-b454-4b9f-b494-6d7506f55048",
   "metadata": {},
   "outputs": [
    {
     "name": "stdout",
     "output_type": "stream",
     "text": [
      "File exists? True\n",
      "\u001b[1m1/1\u001b[0m \u001b[32m━━━━━━━━━━━━━━━━━━━━\u001b[0m\u001b[37m\u001b[0m \u001b[1m1s\u001b[0m 676ms/step\n",
      "Predicted class label: Apple___Black_rot\n"
     ]
    }
   ],
   "source": [
    "from tensorflow.keras.preprocessing.image import load_img, img_to_array\n",
    "from tensorflow.keras.applications.vgg16 import preprocess_input\n",
    "import numpy as np\n",
    "import os\n",
    "\n",
    "img_path = r\"C:\\Users\\chand\\Downloads\\archive\\Fruit And Vegetable Diseases Dataset\\Apple__Rotten\\vertical_flip_Screen Shot 2018-06-07 at 3.00.46 PM.png\"\n",
    "\n",
    "# Verify image exists\n",
    "print(\"File exists?\", os.path.exists(img_path))\n",
    "\n",
    "# Load and preprocess the image\n",
    "img = load_img(img_path, target_size=(224, 224))\n",
    "x = img_to_array(img)\n",
    "x = preprocess_input(x)\n",
    "x = np.expand_dims(x, axis=0)\n",
    "\n",
    "# Predict\n",
    "preds = vgg16.predict(x)\n",
    "predicted_index = np.argmax(preds)\n",
    "\n",
    "# Optional: If you have a class label mapping\n",
    "labels = [\n",
    "    'Apple___Apple_scab', 'Apple___Black_rot', 'Apple___Cedar_apple_rust', 'Apple___healthy',\n",
    "    'Bellpepper___Bacterial_spot', 'Bellpepper___healthy', 'Cherry___Powdery_mildew',\n",
    "    'Cherry___healthy', 'Grape___Black_rot', 'Grape___Esca_(Black_Measles)',\n",
    "    'Grape___Leaf_blight_(Isariopsis_Leaf_Spot)', 'Grape___healthy', 'Guava___Rotten',\n",
    "    'Guava___Scab', 'Guava___healthy', 'Lemon___Rotten', 'Lemon___healthy',\n",
    "    'Mango___Rotten', 'Mango___healthy', 'Orange___Haunglongbing_(Citrus_greening)',\n",
    "    'Peach___Bacterial_spot', 'Peach___healthy', 'Pear___healthy', 'Pomegranate___healthy',\n",
    "    'Strawberry___Leaf_scorch', 'Strawberry___healthy', 'Tomato___Bacterial_spot',\n",
    "    'Tomato___healthy'\n",
    "]\n",
    "\n",
    "print(\"Predicted class label:\", labels[predicted_index])"
   ]
  },
  {
   "cell_type": "code",
   "execution_count": 27,
   "id": "aa5cc210-1c69-4d3e-9472-de6a27a10e3b",
   "metadata": {},
   "outputs": [],
   "source": [
    "img_path = r\"C:\\Users\\chand\\Downloads\\archive\\Fruit And Vegetable Diseases Dataset\\Apple__Rotten\\vertical_flip_Screen Shot 2018-06-07 at 3.00.46 PM.png\"\n"
   ]
  },
  {
   "cell_type": "code",
   "execution_count": 29,
   "id": "abccccc6-6d45-4072-88cb-6aba033a9baf",
   "metadata": {},
   "outputs": [
    {
     "name": "stdout",
     "output_type": "stream",
     "text": [
      "\u001b[1m1/1\u001b[0m \u001b[32m━━━━━━━━━━━━━━━━━━━━\u001b[0m\u001b[37m\u001b[0m \u001b[1m1s\u001b[0m 636ms/step\n"
     ]
    },
    {
     "data": {
      "text/plain": [
       "array([[0.02019409, 0.9798059 ]], dtype=float32)"
      ]
     },
     "execution_count": 29,
     "metadata": {},
     "output_type": "execute_result"
    }
   ],
   "source": [
    "import numpy as np\n",
    "\n",
    "img = load_img(img_path, target_size=(224, 224))\n",
    "\n",
    "x = img_to_array(img)\n",
    "\n",
    "x = preprocess_input(x)\n",
    "\n",
    "preds = vgg16.predict(np.array([x]))\n",
    "\n",
    "preds"
   ]
  },
  {
   "cell_type": "code",
   "execution_count": 31,
   "id": "0a89be5f-1bf9-430a-861e-6e080a07db47",
   "metadata": {},
   "outputs": [
    {
     "data": {
      "text/plain": [
       "'Apple___Black_rot'"
      ]
     },
     "execution_count": 31,
     "metadata": {},
     "output_type": "execute_result"
    }
   ],
   "source": [
    "labels[np.argmax(preds)]"
   ]
  },
  {
   "cell_type": "code",
   "execution_count": null,
   "id": "92ea32e5-0e91-4ed8-9a1e-e37682a8957a",
   "metadata": {},
   "outputs": [],
   "source": []
  }
 ],
 "metadata": {
  "kernelspec": {
   "display_name": "Python [conda env:base] *",
   "language": "python",
   "name": "conda-base-py"
  },
  "language_info": {
   "codemirror_mode": {
    "name": "ipython",
    "version": 3
   },
   "file_extension": ".py",
   "mimetype": "text/x-python",
   "name": "python",
   "nbconvert_exporter": "python",
   "pygments_lexer": "ipython3",
   "version": "3.12.7"
  }
 },
 "nbformat": 4,
 "nbformat_minor": 5
}
